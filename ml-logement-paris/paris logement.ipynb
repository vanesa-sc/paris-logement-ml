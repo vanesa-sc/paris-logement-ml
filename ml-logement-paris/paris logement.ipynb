{
 "cells": [
  {
   "cell_type": "code",
   "execution_count": 1,
   "id": "248f14c8",
   "metadata": {},
   "outputs": [],
   "source": [
    "import numpy as np\n",
    "\n",
    "import pandas as pd"
   ]
  },
  {
   "cell_type": "code",
   "execution_count": 2,
   "id": "79203321",
   "metadata": {},
   "outputs": [],
   "source": [
    "data=pd.read_csv('logement-encadrement-des-loyers.csv',sep=';')"
   ]
  },
  {
   "cell_type": "code",
   "execution_count": 3,
   "id": "a9719633",
   "metadata": {},
   "outputs": [
    {
     "data": {
      "text/plain": [
       "Index(['Secteurs géographiques', 'Numéro du quartier', 'Nom du quartier',\n",
       "       'Nombre de pièces principales', 'Epoque de construction',\n",
       "       'Type de location', 'Loyers de référence',\n",
       "       'Loyers de référence majorés', 'Loyers de référence minorés', 'Année',\n",
       "       'Ville', 'Numéro INSEE du quartier', 'geo_shape', 'geo_point_2d'],\n",
       "      dtype='object')"
      ]
     },
     "execution_count": 3,
     "metadata": {},
     "output_type": "execute_result"
    }
   ],
   "source": [
    "data.columns"
   ]
  },
  {
   "cell_type": "code",
   "execution_count": 5,
   "id": "d91d1e04",
   "metadata": {},
   "outputs": [
    {
     "data": {
      "text/plain": [
       "0        1946-1970\n",
       "1        1971-1990\n",
       "2       Apres 1990\n",
       "3       Avant 1946\n",
       "4       Apres 1990\n",
       "           ...    \n",
       "7675    Apres 1990\n",
       "7676    Avant 1946\n",
       "7677     1971-1990\n",
       "7678     1971-1990\n",
       "7679    Apres 1990\n",
       "Name: Epoque de construction, Length: 7680, dtype: object"
      ]
     },
     "execution_count": 5,
     "metadata": {},
     "output_type": "execute_result"
    }
   ],
   "source": [
    "data['Epoque de construction'].astype(str)"
   ]
  },
  {
   "cell_type": "code",
   "execution_count": 7,
   "id": "0125edd2",
   "metadata": {},
   "outputs": [],
   "source": [
    "data['Epoque de construction'] = data['Epoque de construction'].replace({'1946-1970':'1', '1971-1990':'2','Apres 1990':'3', 'Avant 1946':'4'})"
   ]
  },
  {
   "cell_type": "code",
   "execution_count": 8,
   "id": "97df4f2d",
   "metadata": {},
   "outputs": [
    {
     "data": {
      "text/plain": [
       "0       1\n",
       "1       2\n",
       "2       3\n",
       "3       4\n",
       "4       3\n",
       "       ..\n",
       "7675    3\n",
       "7676    4\n",
       "7677    2\n",
       "7678    2\n",
       "7679    3\n",
       "Name: Epoque de construction, Length: 7680, dtype: int64"
      ]
     },
     "execution_count": 8,
     "metadata": {},
     "output_type": "execute_result"
    }
   ],
   "source": [
    "data['Epoque de construction'].astype(int)"
   ]
  },
  {
   "cell_type": "code",
   "execution_count": null,
   "id": "74e7b050",
   "metadata": {},
   "outputs": [],
   "source": [
    "def data_process():\n",
    "    \n",
    "    if epoque== dtype(o):\n",
    "        \n",
    "        \n",
    "        "
   ]
  }
 ],
 "metadata": {
  "kernelspec": {
   "display_name": "Python 3 (ipykernel)",
   "language": "python",
   "name": "python3"
  },
  "language_info": {
   "codemirror_mode": {
    "name": "ipython",
    "version": 3
   },
   "file_extension": ".py",
   "mimetype": "text/x-python",
   "name": "python",
   "nbconvert_exporter": "python",
   "pygments_lexer": "ipython3",
   "version": "3.8.12"
  },
  "toc": {
   "base_numbering": 1,
   "nav_menu": {},
   "number_sections": true,
   "sideBar": true,
   "skip_h1_title": false,
   "title_cell": "Table of Contents",
   "title_sidebar": "Contents",
   "toc_cell": false,
   "toc_position": {},
   "toc_section_display": true,
   "toc_window_display": false
  }
 },
 "nbformat": 4,
 "nbformat_minor": 5
}
