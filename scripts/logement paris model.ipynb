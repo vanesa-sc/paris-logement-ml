{
 "cells": [
  {
   "cell_type": "code",
   "execution_count": 1,
   "id": "911fd513",
   "metadata": {},
   "outputs": [],
   "source": [
    "import pandas as pd\n",
    "\n",
    "import numpy as np"
   ]
  },
  {
   "cell_type": "code",
   "execution_count": 2,
   "id": "b4522773",
   "metadata": {},
   "outputs": [],
   "source": [
    "data=pd.read_csv('logement-encadrement-des-loyers.csv',sep=';')"
   ]
  },
  {
   "cell_type": "code",
   "execution_count": 3,
   "id": "263acce4",
   "metadata": {},
   "outputs": [
    {
     "data": {
      "text/html": [
       "<div>\n",
       "<style scoped>\n",
       "    .dataframe tbody tr th:only-of-type {\n",
       "        vertical-align: middle;\n",
       "    }\n",
       "\n",
       "    .dataframe tbody tr th {\n",
       "        vertical-align: top;\n",
       "    }\n",
       "\n",
       "    .dataframe thead th {\n",
       "        text-align: right;\n",
       "    }\n",
       "</style>\n",
       "<table border=\"1\" class=\"dataframe\">\n",
       "  <thead>\n",
       "    <tr style=\"text-align: right;\">\n",
       "      <th></th>\n",
       "      <th>Secteurs géographiques</th>\n",
       "      <th>Numéro du quartier</th>\n",
       "      <th>Nom du quartier</th>\n",
       "      <th>Nombre de pièces principales</th>\n",
       "      <th>Epoque de construction</th>\n",
       "      <th>Type de location</th>\n",
       "      <th>Loyers de référence</th>\n",
       "      <th>Loyers de référence majorés</th>\n",
       "      <th>Loyers de référence minorés</th>\n",
       "      <th>Année</th>\n",
       "      <th>Ville</th>\n",
       "      <th>Numéro INSEE du quartier</th>\n",
       "      <th>geo_shape</th>\n",
       "      <th>geo_point_2d</th>\n",
       "    </tr>\n",
       "  </thead>\n",
       "  <tbody>\n",
       "    <tr>\n",
       "      <th>0</th>\n",
       "      <td>2</td>\n",
       "      <td>1</td>\n",
       "      <td>St-Germain-l'Auxerrois</td>\n",
       "      <td>1</td>\n",
       "      <td>1946-1970</td>\n",
       "      <td>meublé</td>\n",
       "      <td>35.4</td>\n",
       "      <td>42.48</td>\n",
       "      <td>24.78</td>\n",
       "      <td>2021</td>\n",
       "      <td>PARIS</td>\n",
       "      <td>7510101</td>\n",
       "      <td>{\"coordinates\": [[[2.344593389828428, 48.85404...</td>\n",
       "      <td>48.860650135209916,2.3349103292802087</td>\n",
       "    </tr>\n",
       "    <tr>\n",
       "      <th>1</th>\n",
       "      <td>2</td>\n",
       "      <td>1</td>\n",
       "      <td>St-Germain-l'Auxerrois</td>\n",
       "      <td>2</td>\n",
       "      <td>1971-1990</td>\n",
       "      <td>meublé</td>\n",
       "      <td>29.3</td>\n",
       "      <td>35.16</td>\n",
       "      <td>20.51</td>\n",
       "      <td>2021</td>\n",
       "      <td>PARIS</td>\n",
       "      <td>7510101</td>\n",
       "      <td>{\"coordinates\": [[[2.344593389828428, 48.85404...</td>\n",
       "      <td>48.860650135209916,2.3349103292802087</td>\n",
       "    </tr>\n",
       "    <tr>\n",
       "      <th>2</th>\n",
       "      <td>2</td>\n",
       "      <td>4</td>\n",
       "      <td>Place-Vendôme</td>\n",
       "      <td>4</td>\n",
       "      <td>Apres 1990</td>\n",
       "      <td>meublé</td>\n",
       "      <td>29.5</td>\n",
       "      <td>35.40</td>\n",
       "      <td>20.65</td>\n",
       "      <td>2021</td>\n",
       "      <td>PARIS</td>\n",
       "      <td>7510104</td>\n",
       "      <td>{\"coordinates\": [[[2.3319449693932333, 48.8649...</td>\n",
       "      <td>48.86701859062769,2.328581664931251</td>\n",
       "    </tr>\n",
       "    <tr>\n",
       "      <th>3</th>\n",
       "      <td>2</td>\n",
       "      <td>3</td>\n",
       "      <td>Palais-Royal</td>\n",
       "      <td>3</td>\n",
       "      <td>Avant 1946</td>\n",
       "      <td>meublé</td>\n",
       "      <td>30.9</td>\n",
       "      <td>37.08</td>\n",
       "      <td>21.63</td>\n",
       "      <td>2021</td>\n",
       "      <td>PARIS</td>\n",
       "      <td>7510103</td>\n",
       "      <td>{\"coordinates\": [[[2.339465868602756, 48.86213...</td>\n",
       "      <td>48.86465997810256,2.3363089189653103</td>\n",
       "    </tr>\n",
       "    <tr>\n",
       "      <th>4</th>\n",
       "      <td>10</td>\n",
       "      <td>42</td>\n",
       "      <td>Saint-Ambroise</td>\n",
       "      <td>1</td>\n",
       "      <td>Apres 1990</td>\n",
       "      <td>non meublé</td>\n",
       "      <td>29.2</td>\n",
       "      <td>35.04</td>\n",
       "      <td>20.44</td>\n",
       "      <td>2021</td>\n",
       "      <td>PARIS</td>\n",
       "      <td>7511142</td>\n",
       "      <td>{\"coordinates\": [[[2.370939691376834, 48.85779...</td>\n",
       "      <td>48.86234502354469,2.3761180559189916</td>\n",
       "    </tr>\n",
       "  </tbody>\n",
       "</table>\n",
       "</div>"
      ],
      "text/plain": [
       "   Secteurs géographiques  Numéro du quartier         Nom du quartier  \\\n",
       "0                       2                   1  St-Germain-l'Auxerrois   \n",
       "1                       2                   1  St-Germain-l'Auxerrois   \n",
       "2                       2                   4           Place-Vendôme   \n",
       "3                       2                   3            Palais-Royal   \n",
       "4                      10                  42          Saint-Ambroise   \n",
       "\n",
       "   Nombre de pièces principales Epoque de construction Type de location  \\\n",
       "0                             1              1946-1970           meublé   \n",
       "1                             2              1971-1990           meublé   \n",
       "2                             4             Apres 1990           meublé   \n",
       "3                             3             Avant 1946           meublé   \n",
       "4                             1             Apres 1990       non meublé   \n",
       "\n",
       "   Loyers de référence  Loyers de référence majorés  \\\n",
       "0                 35.4                        42.48   \n",
       "1                 29.3                        35.16   \n",
       "2                 29.5                        35.40   \n",
       "3                 30.9                        37.08   \n",
       "4                 29.2                        35.04   \n",
       "\n",
       "   Loyers de référence minorés  Année  Ville  Numéro INSEE du quartier  \\\n",
       "0                        24.78   2021  PARIS                   7510101   \n",
       "1                        20.51   2021  PARIS                   7510101   \n",
       "2                        20.65   2021  PARIS                   7510104   \n",
       "3                        21.63   2021  PARIS                   7510103   \n",
       "4                        20.44   2021  PARIS                   7511142   \n",
       "\n",
       "                                           geo_shape  \\\n",
       "0  {\"coordinates\": [[[2.344593389828428, 48.85404...   \n",
       "1  {\"coordinates\": [[[2.344593389828428, 48.85404...   \n",
       "2  {\"coordinates\": [[[2.3319449693932333, 48.8649...   \n",
       "3  {\"coordinates\": [[[2.339465868602756, 48.86213...   \n",
       "4  {\"coordinates\": [[[2.370939691376834, 48.85779...   \n",
       "\n",
       "                            geo_point_2d  \n",
       "0  48.860650135209916,2.3349103292802087  \n",
       "1  48.860650135209916,2.3349103292802087  \n",
       "2    48.86701859062769,2.328581664931251  \n",
       "3   48.86465997810256,2.3363089189653103  \n",
       "4   48.86234502354469,2.3761180559189916  "
      ]
     },
     "execution_count": 3,
     "metadata": {},
     "output_type": "execute_result"
    }
   ],
   "source": [
    "data.head()"
   ]
  },
  {
   "cell_type": "code",
   "execution_count": 4,
   "id": "4a88ed81",
   "metadata": {},
   "outputs": [
    {
     "data": {
      "text/plain": [
       "Secteurs géographiques          0\n",
       "Numéro du quartier              0\n",
       "Nom du quartier                 0\n",
       "Nombre de pièces principales    0\n",
       "Epoque de construction          0\n",
       "Type de location                0\n",
       "Loyers de référence             0\n",
       "Loyers de référence majorés     0\n",
       "Loyers de référence minorés     0\n",
       "Année                           0\n",
       "Ville                           0\n",
       "Numéro INSEE du quartier        0\n",
       "geo_shape                       0\n",
       "geo_point_2d                    0\n",
       "dtype: int64"
      ]
     },
     "execution_count": 4,
     "metadata": {},
     "output_type": "execute_result"
    }
   ],
   "source": [
    "data.isnull().sum()"
   ]
  },
  {
   "cell_type": "code",
   "execution_count": 8,
   "id": "9dfb2d58",
   "metadata": {},
   "outputs": [],
   "source": [
    "data['Epoque de construction']=data['Epoque de construction'].astype(str)"
   ]
  },
  {
   "cell_type": "code",
   "execution_count": 9,
   "id": "2ff02427",
   "metadata": {},
   "outputs": [],
   "source": [
    "data['Epoque de construction'] = data['Epoque de construction'].replace({'1946-1970':'1', '1971-1990':'2','Apres 1990':'3', 'Avant 1946':'4'})"
   ]
  },
  {
   "cell_type": "code",
   "execution_count": 14,
   "id": "4cbfdcc4",
   "metadata": {},
   "outputs": [],
   "source": [
    "data['Epoque de construction']=data['Epoque de construction'].astype(int)"
   ]
  },
  {
   "cell_type": "code",
   "execution_count": 15,
   "id": "fcc44dcf",
   "metadata": {},
   "outputs": [
    {
     "data": {
      "text/plain": [
       "dtype('int64')"
      ]
     },
     "execution_count": 15,
     "metadata": {},
     "output_type": "execute_result"
    }
   ],
   "source": [
    "data['Epoque de construction'].dtype"
   ]
  },
  {
   "cell_type": "code",
   "execution_count": 18,
   "id": "dff5753e",
   "metadata": {},
   "outputs": [],
   "source": [
    "data['Type de location']=data['Type de location'].astype(str)"
   ]
  },
  {
   "cell_type": "code",
   "execution_count": 19,
   "id": "bfc63931",
   "metadata": {},
   "outputs": [],
   "source": [
    "data['Type de location']=data['Type de location'].replace({'meublé':'1','non meublé':'0'})"
   ]
  },
  {
   "cell_type": "code",
   "execution_count": 20,
   "id": "a1faf6fa",
   "metadata": {},
   "outputs": [
    {
     "data": {
      "text/plain": [
       "0       1\n",
       "1       1\n",
       "2       1\n",
       "3       1\n",
       "4       0\n",
       "       ..\n",
       "7675    1\n",
       "7676    1\n",
       "7677    1\n",
       "7678    1\n",
       "7679    1\n",
       "Name: Type de location, Length: 7680, dtype: int64"
      ]
     },
     "execution_count": 20,
     "metadata": {},
     "output_type": "execute_result"
    }
   ],
   "source": [
    "data['Type de location'].astype(int)"
   ]
  },
  {
   "cell_type": "code",
   "execution_count": 24,
   "id": "0a8a2f1a",
   "metadata": {},
   "outputs": [],
   "source": [
    "X=data[['Numéro du quartier','Nombre de pièces principales','Epoque de construction','Type de location']]"
   ]
  },
  {
   "cell_type": "code",
   "execution_count": 26,
   "id": "10e2e248",
   "metadata": {},
   "outputs": [],
   "source": [
    "y=data['Loyers de référence']"
   ]
  },
  {
   "cell_type": "code",
   "execution_count": 27,
   "id": "3fd1c0bf",
   "metadata": {},
   "outputs": [
    {
     "data": {
      "text/plain": [
       "'BASELINE MODEL'"
      ]
     },
     "execution_count": 27,
     "metadata": {},
     "output_type": "execute_result"
    }
   ],
   "source": [
    "'BASELINE MODEL' \n"
   ]
  },
  {
   "cell_type": "code",
   "execution_count": 30,
   "id": "ffdeea03",
   "metadata": {},
   "outputs": [],
   "source": [
    "from sklearn.linear_model import LinearRegression\n",
    "from sklearn.model_selection import cross_validate\n",
    "\n",
    "from sklearn.model_selection import train_test_split\n",
    "\n",
    "X_train, X_test, y_train, y_test = train_test_split(X, y ,test_size=0.33, random_state=42)"
   ]
  },
  {
   "cell_type": "code",
   "execution_count": 32,
   "id": "3280f1bf",
   "metadata": {},
   "outputs": [],
   "source": [
    "from sklearn.model_selection import cross_validate\n",
    "\n",
    "\n",
    "model=LinearRegression()\n",
    "\n",
    "\n",
    "cv_results = cross_validate(model, X, y, cv=5)"
   ]
  },
  {
   "cell_type": "code",
   "execution_count": 33,
   "id": "1a7896b4",
   "metadata": {},
   "outputs": [
    {
     "data": {
      "text/plain": [
       "0.6645902059722426"
      ]
     },
     "execution_count": 33,
     "metadata": {},
     "output_type": "execute_result"
    }
   ],
   "source": [
    "mean_score = cv_results['test_score'].mean()\n",
    "mean_score"
   ]
  },
  {
   "cell_type": "code",
   "execution_count": 37,
   "id": "958db765",
   "metadata": {},
   "outputs": [],
   "source": [
    "from sklearn.ensemble import RandomForestRegressor\n",
    "\n",
    "\n",
    "model_tree=RandomForestRegressor()\n",
    "\n",
    "\n",
    "cv_results_tree = cross_validate(model_tree, X, y, cv=5)"
   ]
  },
  {
   "cell_type": "code",
   "execution_count": 38,
   "id": "5b24ca47",
   "metadata": {},
   "outputs": [
    {
     "data": {
      "text/plain": [
       "0.9757551511046303"
      ]
     },
     "execution_count": 38,
     "metadata": {},
     "output_type": "execute_result"
    }
   ],
   "source": [
    "mean_score_tree = cv_results_tree['test_score'].mean()\n",
    "mean_score_tree"
   ]
  },
  {
   "cell_type": "code",
   "execution_count": 40,
   "id": "f01adcaa",
   "metadata": {},
   "outputs": [],
   "source": [
    "import numpy as np\n",
    "from sklearn.model_selection import learning_curve\n",
    "\n",
    "train_sizes, train_scores, test_scores = learning_curve(estimator =RandomForestRegressor(),\n",
    "                                                                                           X = X_train, \n",
    "                                                                                           y = y_train, \n",
    "                                                                                           train_sizes = [250,500,750,1200,], cv = 5,\n",
    "                                                                                           \n",
    "                                                                                            )\n",
    "\n",
    "train_scores_mean = np.mean(train_scores, axis=1)\n",
    "test_scores_mean = np.mean(test_scores, axis=1)"
   ]
  },
  {
   "cell_type": "code",
   "execution_count": 42,
   "id": "059094f7",
   "metadata": {},
   "outputs": [
    {
     "data": {
      "image/png": "[encoded data removed]",
      "text/plain": [
       "<Figure size 432x288 with 1 Axes>"
      ]
     },
     "metadata": {
      "needs_background": "light"
     },
     "output_type": "display_data"
    }
   ],
   "source": [
    "import matplotlib.pyplot as plt\n",
    "\n",
    "plt.plot(train_sizes, train_scores_mean, label = 'Training score')\n",
    "plt.plot(train_sizes, test_scores_mean, label = 'Test score')\n",
    "\n",
    "plt.xlabel('Training set size', fontsize = 14)\n",
    "plt.title('Learning curves', fontsize = 18, y = 1.03)\n",
    "plt.legend();"
   ]
  },
  {
   "cell_type": "code",
   "execution_count": 59,
   "id": "e2c85020",
   "metadata": {},
   "outputs": [],
   "source": [
    "model_regressor_tree=RandomForestRegressor(n_estimators=300,max_features=1,min_samples_leaf=3,random_state=0)\n",
    "\n",
    "\n",
    "cv_results_model = cross_validate(model_regressor_tree, X, y, cv=5)"
   ]
  },
  {
   "cell_type": "code",
   "execution_count": 60,
   "id": "563bc17a",
   "metadata": {},
   "outputs": [
    {
     "data": {
      "text/plain": [
       "{'fit_time': array([0.62829328, 0.67079639, 0.6245327 , 0.63447475, 0.62472034]),\n",
       " 'score_time': array([0.05787659, 0.06374145, 0.05449057, 0.05478716, 0.05673862]),\n",
       " 'test_score': array([0.94323526, 0.9424806 , 0.94783571, 0.93585139, 0.93981075])}"
      ]
     },
     "execution_count": 60,
     "metadata": {},
     "output_type": "execute_result"
    }
   ],
   "source": [
    "cv_results_model"
   ]
  },
  {
   "cell_type": "code",
   "execution_count": 67,
   "id": "ed8ff406",
   "metadata": {},
   "outputs": [],
   "source": [
    "\n",
    "train_sizes, train_scores, test_scores = learning_curve(estimator =RandomForestRegressor(n_estimators=300,max_features=1,min_samples_leaf=3,random_state=0),\n",
    "                                                                                           X = X_train, \n",
    "                                                                                           y = y_train, \n",
    "                                                                                           train_sizes = [250,500,750,1200,], cv = 5,\n",
    "                                                                                           \n",
    "                                                                                            )\n",
    "\n",
    "train_scores_mean = np.mean(train_scores, axis=1)\n",
    "test_scores_mean = np.mean(test_scores, axis=1)"
   ]
  },
  {
   "cell_type": "code",
   "execution_count": 68,
   "id": "ba91652e",
   "metadata": {},
   "outputs": [
    {
     "data": {
      "image/png": "[encoded data removed]",
      "text/plain": [
       "<Figure size 432x288 with 1 Axes>"
      ]
     },
     "metadata": {
      "needs_background": "light"
     },
     "output_type": "display_data"
    }
   ],
   "source": [
    "\n",
    "plt.plot(train_sizes, train_scores_mean, label = 'Training score')\n",
    "plt.plot(train_sizes, test_scores_mean, label = 'Test score')\n",
    "\n",
    "plt.xlabel('Training set size', fontsize = 14)\n",
    "plt.title('Learning curves', fontsize = 18, y = 1.03)\n",
    "plt.legend();"
   ]
  },
  {
   "cell_type": "code",
   "execution_count": 61,
   "id": "d7d43796",
   "metadata": {},
   "outputs": [
    {
     "data": {
      "text/plain": [
       "RandomForestRegressor(bootstrap=True, ccp_alpha=0.0, criterion='mse',\n",
       "                      max_depth=None, max_features=1, max_leaf_nodes=None,\n",
       "                      max_samples=None, min_impurity_decrease=0.0,\n",
       "                      min_impurity_split=None, min_samples_leaf=3,\n",
       "                      min_samples_split=2, min_weight_fraction_leaf=0.0,\n",
       "                      n_estimators=300, n_jobs=None, oob_score=False,\n",
       "                      random_state=0, verbose=0, warm_start=False)"
      ]
     },
     "execution_count": 61,
     "metadata": {},
     "output_type": "execute_result"
    }
   ],
   "source": [
    "regressor_tree=RandomForestRegressor(n_estimators=300,max_features=1,min_samples_leaf=3,random_state=0)\n",
    "\n",
    "regressor_tree.fit(X,y)\n",
    "\n"
   ]
  },
  {
   "cell_type": "code",
   "execution_count": 64,
   "id": "f3b06dec",
   "metadata": {},
   "outputs": [
    {
     "data": {
      "text/plain": [
       "0.9711597292580816"
      ]
     },
     "execution_count": 64,
     "metadata": {},
     "output_type": "execute_result"
    }
   ],
   "source": [
    "regressor_tree.score(X,y)"
   ]
  },
  {
   "cell_type": "code",
   "execution_count": 66,
   "id": "d3063fc9",
   "metadata": {},
   "outputs": [
    {
     "data": {
      "text/plain": [
       "array([28.77852469])"
      ]
     },
     "execution_count": 66,
     "metadata": {},
     "output_type": "execute_result"
    }
   ],
   "source": [
    "regressor_tree.predict([[1,2,1,1]])"
   ]
  },
  {
   "cell_type": "code",
   "execution_count": 69,
   "id": "f53cd41b",
   "metadata": {},
   "outputs": [
    {
     "data": {
      "text/plain": [
       "['model.joblib']"
      ]
     },
     "execution_count": 69,
     "metadata": {},
     "output_type": "execute_result"
    }
   ],
   "source": [
    "import joblib\n",
    "\n",
    "filename = 'model.joblib'\n",
    "joblib.dump(regressor_tree, filename)"
   ]
  },
  {
   "cell_type": "code",
   "execution_count": null,
   "id": "067d87e3",
   "metadata": {},
   "outputs": [],
   "source": []
  }
 ],
 "metadata": {
  "kernelspec": {
   "display_name": "Python 3 (ipykernel)",
   "language": "python",
   "name": "python3"
  },
  "language_info": {
   "codemirror_mode": {
    "name": "ipython",
    "version": 3
   },
   "file_extension": ".py",
   "mimetype": "text/x-python",
   "name": "python",
   "nbconvert_exporter": "python",
   "pygments_lexer": "ipython3",
   "version": "3.8.12"
  },
  "toc": {
   "base_numbering": 1,
   "nav_menu": {},
   "number_sections": true,
   "sideBar": true,
   "skip_h1_title": false,
   "title_cell": "Table of Contents",
   "title_sidebar": "Contents",
   "toc_cell": false,
   "toc_position": {},
   "toc_section_display": true,
   "toc_window_display": false
  }
 },
 "nbformat": 4,
 "nbformat_minor": 5
}
